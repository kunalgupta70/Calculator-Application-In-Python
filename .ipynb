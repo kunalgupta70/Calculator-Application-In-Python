{
 "cells": [
  {
   "cell_type": "code",
   "execution_count": 8,
   "id": "8ea95741-73f8-4a74-9cbf-812d642ecc3b",
   "metadata": {},
   "outputs": [],
   "source": [
    "# #functions in python \n",
    "\n",
    "# #create function\n",
    "# def greeting():\n",
    "#     print(\"Welcome to the python course by vishal!\")\n",
    "\n",
    "# #call function (use function)\n",
    "# greetings()"
   ]
  },
  {
   "cell_type": "code",
   "execution_count": 21,
   "id": "4ebeffee-d475-47de-89b3-f25637a34826",
   "metadata": {},
   "outputs": [],
   "source": [
    "# # create a function to add 2 numbers\n",
    "\n",
    "# def add2numbers(a,b):  #parameter\n",
    "#     result = a + b\n",
    "#     print(\"The sum is: \", result )\n",
    "\n",
    "# #call above sum function\n",
    "# add2numbers(5,3)   #arguments(5,3)\n",
    "\n",
    "# add2numbers(a=299, b=355)"
   ]
  },
  {
   "cell_type": "code",
   "execution_count": 40,
   "id": "d4b05b91-2a39-4685-8a09-523d990eaabc",
   "metadata": {},
   "outputs": [],
   "source": [
    "#  #create a function to multiply2 number\n",
    "\n",
    "# def multiply2number(c,d):\n",
    "#     result = c-d\n",
    "#     print(\"The multiply is:\", result )\n",
    "\n",
    "# #cell above multiply function\n",
    "# multiply2number(73,24)"
   ]
  },
  {
   "cell_type": "code",
   "execution_count": 38,
   "id": "d0814bb5-0f11-471b-9b73-d6b73a885ab7",
   "metadata": {},
   "outputs": [
    {
     "name": "stdout",
     "output_type": "stream",
     "text": [
      "The sum is: 25571\n"
     ]
    }
   ],
   "source": [
    "# # create a function to add 3 numbers\n",
    "\n",
    "# def add3numbers(d,b,c):\n",
    "#     result =  d + b + c\n",
    "#     print(\"The sum is:\", result)\n",
    "\n",
    "# #cell above sum function\n",
    "# add3numbers(7,9,25555)\n",
    " \n"
   ]
  },
  {
   "cell_type": "code",
   "execution_count": 42,
   "id": "6e4439df-30a3-4e69-bab0-52972fabdfd1",
   "metadata": {},
   "outputs": [
    {
     "name": "stdout",
     "output_type": "stream",
     "text": [
      "11\n"
     ]
    }
   ],
   "source": [
    "#function with  return statement\n",
    "\n",
    "def add2num(a,b):\n",
    "    return a+b\n",
    "   # return a-b  after return statement function end\n",
    "\n",
    "sum2num =  add2num(10,1)\n",
    "print(sum2num )\n"
   ]
  },
  {
   "cell_type": "code",
   "execution_count": 56,
   "id": "1085edaa-2bcb-47e3-86eb-147901beae2a",
   "metadata": {},
   "outputs": [
    {
     "name": "stdout",
     "output_type": "stream",
     "text": [
      "77.0\n"
     ]
    }
   ],
   "source": [
    "# Function to convert Celsius to Fahrenheit\n",
    "def celsius_to_fahrenheit(celsius):\n",
    "    fahrenheit = (celsius * 9/5) + 32\n",
    "    return fahrenheit\n",
    "\n",
    "# Call the function\n",
    "temp_f = celsius_to_fahrenheit(25)\n",
    "print(temp_f)\n"
   ]
  },
  {
   "cell_type": "code",
   "execution_count": 58,
   "id": "ad00014e-5990-43f0-9a7a-2c506220ce45",
   "metadata": {},
   "outputs": [
    {
     "name": "stdout",
     "output_type": "stream",
     "text": [
      "122.0\n"
     ]
    }
   ],
   "source": [
    "# Function to convert Celsius to Fahrenheit - without return\n",
    "def celsius_to_fahrenheit(celsius):\n",
    "    fahrenheit = (celsius * 9/5) + 32\n",
    "    print(fahrenheit)\n",
    "\n",
    "#call function\n",
    "celsius_to_fahrenheit(50)\n"
   ]
  },
  {
   "cell_type": "code",
   "execution_count": 60,
   "id": "872bd035-f924-46f1-9505-bafed21bef56",
   "metadata": {},
   "outputs": [
    {
     "name": "stdout",
     "output_type": "stream",
     "text": [
      "HELLO!\n"
     ]
    }
   ],
   "source": [
    "#pass statement\n",
    "def kfdfdj():\n",
    "    pass\n",
    "\n",
    "print(\"HELLO!\")\n",
    "\n",
    "\n"
   ]
  },
  {
   "cell_type": "code",
   "execution_count": null,
   "id": "8221a7b5-2671-4842-a4cd-50fe89bf81f7",
   "metadata": {},
   "outputs": [],
   "source": []
  }
 ],
 "metadata": {
  "kernelspec": {
   "display_name": "Python 3 (ipykernel)",
   "language": "python",
   "name": "python3"
  },
  "language_info": {
   "codemirror_mode": {
    "name": "ipython",
    "version": 3
   },
   "file_extension": ".py",
   "mimetype": "text/x-python",
   "name": "python",
   "nbconvert_exporter": "python",
   "pygments_lexer": "ipython3",
   "version": "3.12.4"
  }
 },
 "nbformat": 4,
 "nbformat_minor": 5
}
